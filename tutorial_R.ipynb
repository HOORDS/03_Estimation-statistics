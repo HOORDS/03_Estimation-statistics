{
 "cells": [
  {
   "cell_type": "markdown",
   "metadata": {},
   "source": [
    "# Two groups"
   ]
  },
  {
   "cell_type": "markdown",
   "metadata": {},
   "source": [
    "## Enter your data"
   ]
  },
  {
   "cell_type": "markdown",
   "metadata": {},
   "source": [
    "### Import / Create Dataset"
   ]
  },
  {
   "cell_type": "code",
   "execution_count": 48,
   "metadata": {},
   "outputs": [],
   "source": [
    "#install.packages('dplyr')\n",
    "#install.packages('tidyr')\n",
    "#install.packages('dabestr')"
   ]
  },
  {
   "cell_type": "code",
   "execution_count": 49,
   "metadata": {},
   "outputs": [
    {
     "data": {
      "text/html": [
       "<table class=\"dataframe\">\n",
       "<caption>A tibble: 6 × 2</caption>\n",
       "<thead>\n",
       "\t<tr><th scope=col>Group</th><th scope=col>Measurement</th></tr>\n",
       "\t<tr><th scope=col>&lt;chr&gt;</th><th scope=col>&lt;dbl&gt;</th></tr>\n",
       "</thead>\n",
       "<tbody>\n",
       "\t<tr><td>Control</td><td>-0.1789007</td></tr>\n",
       "\t<tr><td>Control</td><td>-0.9280441</td></tr>\n",
       "\t<tr><td>Control</td><td>-0.7840337</td></tr>\n",
       "\t<tr><td>Control</td><td>-1.6506005</td></tr>\n",
       "\t<tr><td>Control</td><td>-0.4080665</td></tr>\n",
       "\t<tr><td>Control</td><td>-1.0955294</td></tr>\n",
       "</tbody>\n",
       "</table>\n"
      ],
      "text/latex": [
       "A tibble: 6 × 2\n",
       "\\begin{tabular}{ll}\n",
       " Group & Measurement\\\\\n",
       " <chr> & <dbl>\\\\\n",
       "\\hline\n",
       "\t Control & -0.1789007\\\\\n",
       "\t Control & -0.9280441\\\\\n",
       "\t Control & -0.7840337\\\\\n",
       "\t Control & -1.6506005\\\\\n",
       "\t Control & -0.4080665\\\\\n",
       "\t Control & -1.0955294\\\\\n",
       "\\end{tabular}\n"
      ],
      "text/markdown": [
       "\n",
       "A tibble: 6 × 2\n",
       "\n",
       "| Group &lt;chr&gt; | Measurement &lt;dbl&gt; |\n",
       "|---|---|\n",
       "| Control | -0.1789007 |\n",
       "| Control | -0.9280441 |\n",
       "| Control | -0.7840337 |\n",
       "| Control | -1.6506005 |\n",
       "| Control | -0.4080665 |\n",
       "| Control | -1.0955294 |\n",
       "\n"
      ],
      "text/plain": [
       "  Group   Measurement\n",
       "1 Control -0.1789007 \n",
       "2 Control -0.9280441 \n",
       "3 Control -0.7840337 \n",
       "4 Control -1.6506005 \n",
       "5 Control -0.4080665 \n",
       "6 Control -1.0955294 "
      ]
     },
     "metadata": {},
     "output_type": "display_data"
    }
   ],
   "source": [
    "library(dplyr)\n",
    "\n",
    "set.seed(54321)\n",
    "\n",
    "N = 30\n",
    "control <- rnorm(N, mean = 0, sd = 1)\n",
    "test <- rnorm(N, mean = 0.5, sd = 1)\n",
    "\n",
    "\n",
    "wide.data <- \n",
    "  tibble::tibble(\n",
    "    Control = control, Test = test)\n",
    "\n",
    "\n",
    "my.data   <- \n",
    "  wide.data %>%\n",
    "  tidyr::gather(key = Group, value = Measurement)\n",
    "\n",
    "head(my.data)"
   ]
  },
  {
   "cell_type": "markdown",
   "metadata": {},
   "source": [
    "## Select the width of the confidence interval"
   ]
  },
  {
   "cell_type": "code",
   "execution_count": 50,
   "metadata": {},
   "outputs": [],
   "source": [
    "ci <- 90"
   ]
  },
  {
   "cell_type": "markdown",
   "metadata": {},
   "source": [
    "## Select type of analysis"
   ]
  },
  {
   "cell_type": "code",
   "execution_count": 51,
   "metadata": {},
   "outputs": [],
   "source": [
    "paired <- FALSE"
   ]
  },
  {
   "cell_type": "markdown",
   "metadata": {},
   "source": [
    "## Load Data"
   ]
  },
  {
   "cell_type": "code",
   "execution_count": 52,
   "metadata": {},
   "outputs": [],
   "source": [
    "library(dabestr)\n",
    "my_dabest_object <- \n",
    "  my.data %>%\n",
    "  dabest(Group, Measurement, \n",
    "         idx = c(\"Control\", \"Test\"), \n",
    "         paired = paired)"
   ]
  },
  {
   "cell_type": "markdown",
   "metadata": {},
   "source": [
    "## Choose your effect size"
   ]
  },
  {
   "cell_type": "markdown",
   "metadata": {},
   "source": [
    "### Mean difference"
   ]
  },
  {
   "cell_type": "code",
   "execution_count": 53,
   "metadata": {},
   "outputs": [
    {
     "data": {
      "text/plain": [
       "dabestr (Data Analysis with Bootstrap Estimation in R) v0.3.0\n",
       "=============================================================\n",
       "\n",
       "Good morning!\n",
       "The current time is 09:51 AM on Thursday January 20, 2022.\n",
       "\n",
       "Dataset    :  .\n",
       "X Variable :  Group\n",
       "Y Variable :  Measurement\n",
       "\n",
       "Unpaired mean difference of Test (n = 30) minus Control (n = 30)\n",
       " 0.208 [95CI  -0.301; 0.739]\n",
       "\n",
       "\n",
       "5000 bootstrap resamples.\n",
       "All confidence intervals are bias-corrected and accelerated.\n"
      ]
     },
     "metadata": {},
     "output_type": "display_data"
    }
   ],
   "source": [
    "my_dabest_object.mean_diff <- mean_diff(my_dabest_object, ci=ci)\n",
    "my_dabest_object.meandiff"
   ]
  },
  {
   "cell_type": "markdown",
   "metadata": {},
   "source": [
    "### Cohens' d"
   ]
  },
  {
   "cell_type": "code",
   "execution_count": 54,
   "metadata": {},
   "outputs": [
    {
     "data": {
      "text/plain": [
       "dabestr (Data Analysis with Bootstrap Estimation in R) v0.3.0\n",
       "=============================================================\n",
       "\n",
       "Good morning!\n",
       "The current time is 09:51 AM on Thursday January 20, 2022.\n",
       "\n",
       "Dataset    :  .\n",
       "X Variable :  Group\n",
       "Y Variable :  Measurement\n",
       "\n",
       "Unpaired Cohen's d of Test (n = 30) minus Control (n = 30)\n",
       " 0.195 [90CI  -0.224; 0.64]\n",
       "\n",
       "\n",
       "5000 bootstrap resamples.\n",
       "All confidence intervals are bias-corrected and accelerated.\n"
      ]
     },
     "metadata": {},
     "output_type": "display_data"
    }
   ],
   "source": [
    "my_dabest_object.cohens_d <- cohens_d(my_dabest_object, ci=ci)\n",
    "my_dabest_object.cohens_d"
   ]
  },
  {
   "cell_type": "markdown",
   "metadata": {},
   "source": [
    "### Hedges’ g"
   ]
  },
  {
   "cell_type": "code",
   "execution_count": null,
   "metadata": {},
   "outputs": [],
   "source": [
    "my_dabest_object.hedges_g <- hedges_g(my_dabest_object, ci=ci)\n",
    "my_dabest_object.hedges_g"
   ]
  },
  {
   "cell_type": "markdown",
   "metadata": {},
   "source": [
    "### cliffs_delta"
   ]
  },
  {
   "cell_type": "code",
   "execution_count": null,
   "metadata": {},
   "outputs": [],
   "source": [
    "my_dabest_object.cliffs_delta <- cliffs_delta(my_dabest_object, ci=ci)\n",
    "my_dabest_object.cliffs_delta"
   ]
  },
  {
   "cell_type": "markdown",
   "metadata": {},
   "source": [
    "## Plot"
   ]
  },
  {
   "cell_type": "code",
   "execution_count": null,
   "metadata": {},
   "outputs": [],
   "source": [
    "plot(my_dabest_object.cohens_d)"
   ]
  }
 ],
 "metadata": {
  "interpreter": {
   "hash": "3cf36b79b29f749df5c5a6da00d65c1ccc82e42df605e7d02ef896d3b4bcb990"
  },
  "kernelspec": {
   "display_name": "R",
   "language": "R",
   "name": "ir"
  },
  "language_info": {
   "codemirror_mode": "r",
   "file_extension": ".r",
   "mimetype": "text/x-r-source",
   "name": "R",
   "pygments_lexer": "r",
   "version": "4.1.2"
  }
 },
 "nbformat": 4,
 "nbformat_minor": 2
}
